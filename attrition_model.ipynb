{
 "cells": [
  {
   "cell_type": "code",
   "execution_count": 1,
   "metadata": {},
   "outputs": [],
   "source": [
    "import pandas as pd\n",
    "import numpy as np\n",
    "import matplotlib.pyplot as plt\n",
    "import seaborn as sns\n",
    "from builtins import round\n",
    "\n",
    "from sklearn.linear_model import RidgeClassifier, LogisticRegression, SGDClassifier\n",
    "from sklearn.svm import SVC\n",
    "from sklearn.tree import DecisionTreeClassifier\n",
    "from sklearn.ensemble import RandomForestClassifier, ExtraTreesClassifier, GradientBoostingClassifier\n",
    "from sklearn.compose import ColumnTransformer\n",
    "from sklearn.preprocessing import OneHotEncoder, StandardScaler, OrdinalEncoder, LabelEncoder, QuantileTransformer, Binarizer, KBinsDiscretizer\n",
    "from sklearn.model_selection import train_test_split, cross_val_score, RandomizedSearchCV\n",
    "from sklearn.pipeline import Pipeline\n",
    "from sklearn.metrics import balanced_accuracy_score, classification_report, make_scorer, precision_score, recall_score\n",
    "from sklearn.feature_selection import SelectFromModel\n",
    "from sklearn.base import BaseEstimator, TransformerMixin\n",
    "from sklearn.impute import SimpleImputer\n",
    "import warnings\n",
    "warnings.filterwarnings('ignore')\n",
    "\n",
    "pd.set_option('display.max_columns', None)\n",
    "\n",
    "%config InlineBackend.figure_format = 'retina'"
   ]
  },
  {
   "cell_type": "markdown",
   "metadata": {},
   "source": [
    "# __Name__\n",
    "\n",
    "### Zachary Dougherty"
   ]
  },
  {
   "cell_type": "markdown",
   "metadata": {},
   "source": [
    "# __Research Question__\n",
    "\n",
    "### Can we predict employee attrition (when employees leave the company)? "
   ]
  },
  {
   "cell_type": "markdown",
   "metadata": {},
   "source": [
    "# __Load the Data__"
   ]
  },
  {
   "cell_type": "code",
   "execution_count": 2,
   "metadata": {},
   "outputs": [],
   "source": [
    "types = {\n",
    "    'Age':'Int64',\n",
    "    'BusinessTravel':'category',\n",
    "    'DailyRate':'Int64',\n",
    "    'Department':'category',\n",
    "    'DistanceFromHome':'Int64',\n",
    "    'Education':'category',\n",
    "    'EducationField':'category',\n",
    "    'EnvironmentSatisfaction':'category',\n",
    "    'Gender':'category',\n",
    "    'HourlyRate':'Int64',\n",
    "    'JobInvolvement':'category',\n",
    "    'JobLevel':'category',\n",
    "    'JobRole':'category',\n",
    "    'JobSatisfaction':'category',\n",
    "    'MaritalStatus':'category',\n",
    "    'MonthlyIncome':'Int64',\n",
    "    'MonthlyRate':'Int64',\n",
    "    'NumCompaniesWorked':'Int64',\n",
    "    'OverTime':'category',\n",
    "    'PercentSalaryHike':'Int64',\n",
    "    'PerformanceRating':'category',\n",
    "    'RelationshipSatisfaction':'category',\n",
    "    'StockOptionLevel':'category',\n",
    "    'TotalWorkingYears':'Int64',\n",
    "    'TrainingTimesLastYear':'category',\n",
    "    'WorkLifeBalance':'Int64',\n",
    "    'YearsAtCompany':'Int64',\n",
    "    'YearsInCurrentRole':'Int64',\n",
    "    'YearsSinceLastPromotion':'Int64',\n",
    "    'YearsWithCurrManager':'Int64',\n",
    "    'Attrition':'category'\n",
    "}"
   ]
  },
  {
   "cell_type": "code",
   "execution_count": 3,
   "metadata": {},
   "outputs": [
    {
     "data": {
      "text/html": [
       "<div>\n",
       "<style scoped>\n",
       "    .dataframe tbody tr th:only-of-type {\n",
       "        vertical-align: middle;\n",
       "    }\n",
       "\n",
       "    .dataframe tbody tr th {\n",
       "        vertical-align: top;\n",
       "    }\n",
       "\n",
       "    .dataframe thead th {\n",
       "        text-align: right;\n",
       "    }\n",
       "</style>\n",
       "<table border=\"1\" class=\"dataframe\">\n",
       "  <thead>\n",
       "    <tr style=\"text-align: right;\">\n",
       "      <th></th>\n",
       "      <th>Unnamed: 0</th>\n",
       "      <th>Age</th>\n",
       "      <th>BusinessTravel</th>\n",
       "      <th>DailyRate</th>\n",
       "      <th>Department</th>\n",
       "      <th>DistanceFromHome</th>\n",
       "      <th>Education</th>\n",
       "      <th>EducationField</th>\n",
       "      <th>EnvironmentSatisfaction</th>\n",
       "      <th>Gender</th>\n",
       "      <th>HourlyRate</th>\n",
       "      <th>JobInvolvement</th>\n",
       "      <th>JobLevel</th>\n",
       "      <th>JobRole</th>\n",
       "      <th>JobSatisfaction</th>\n",
       "      <th>MaritalStatus</th>\n",
       "      <th>MonthlyIncome</th>\n",
       "      <th>MonthlyRate</th>\n",
       "      <th>NumCompaniesWorked</th>\n",
       "      <th>OverTime</th>\n",
       "      <th>PercentSalaryHike</th>\n",
       "      <th>PerformanceRating</th>\n",
       "      <th>RelationshipSatisfaction</th>\n",
       "      <th>StockOptionLevel</th>\n",
       "      <th>TotalWorkingYears</th>\n",
       "      <th>TrainingTimesLastYear</th>\n",
       "      <th>WorkLifeBalance</th>\n",
       "      <th>YearsAtCompany</th>\n",
       "      <th>YearsInCurrentRole</th>\n",
       "      <th>YearsSinceLastPromotion</th>\n",
       "      <th>YearsWithCurrManager</th>\n",
       "      <th>Attrition</th>\n",
       "    </tr>\n",
       "  </thead>\n",
       "  <tbody>\n",
       "    <tr>\n",
       "      <th>636</th>\n",
       "      <td>252</td>\n",
       "      <td>29</td>\n",
       "      <td>Travel_Rarely</td>\n",
       "      <td>665</td>\n",
       "      <td>Research &amp; Development</td>\n",
       "      <td>15</td>\n",
       "      <td>3</td>\n",
       "      <td>Life Sciences</td>\n",
       "      <td>3</td>\n",
       "      <td>Male</td>\n",
       "      <td>60</td>\n",
       "      <td>3</td>\n",
       "      <td>1</td>\n",
       "      <td>Research Scientist</td>\n",
       "      <td>4</td>\n",
       "      <td>Single</td>\n",
       "      <td>2340</td>\n",
       "      <td>22673</td>\n",
       "      <td>1</td>\n",
       "      <td>No</td>\n",
       "      <td>19</td>\n",
       "      <td>3</td>\n",
       "      <td>1</td>\n",
       "      <td>0</td>\n",
       "      <td>6</td>\n",
       "      <td>1</td>\n",
       "      <td>3</td>\n",
       "      <td>6</td>\n",
       "      <td>5</td>\n",
       "      <td>1</td>\n",
       "      <td>5</td>\n",
       "      <td>No</td>\n",
       "    </tr>\n",
       "    <tr>\n",
       "      <th>1015</th>\n",
       "      <td>667</td>\n",
       "      <td>41</td>\n",
       "      <td>Travel_Rarely</td>\n",
       "      <td>1085</td>\n",
       "      <td>Research &amp; Development</td>\n",
       "      <td>2</td>\n",
       "      <td>4</td>\n",
       "      <td>Life Sciences</td>\n",
       "      <td>2</td>\n",
       "      <td>Female</td>\n",
       "      <td>57</td>\n",
       "      <td>1</td>\n",
       "      <td>1</td>\n",
       "      <td>Laboratory Technician</td>\n",
       "      <td>4</td>\n",
       "      <td>Divorced</td>\n",
       "      <td>2778</td>\n",
       "      <td>17725</td>\n",
       "      <td>4</td>\n",
       "      <td>Yes</td>\n",
       "      <td>13</td>\n",
       "      <td>3</td>\n",
       "      <td>3</td>\n",
       "      <td>1</td>\n",
       "      <td>10</td>\n",
       "      <td>1</td>\n",
       "      <td>2</td>\n",
       "      <td>7</td>\n",
       "      <td>7</td>\n",
       "      <td>1</td>\n",
       "      <td>0</td>\n",
       "      <td>Yes</td>\n",
       "    </tr>\n",
       "    <tr>\n",
       "      <th>1061</th>\n",
       "      <td>414</td>\n",
       "      <td>24</td>\n",
       "      <td>Travel_Rarely</td>\n",
       "      <td>1448</td>\n",
       "      <td>Sales</td>\n",
       "      <td>1</td>\n",
       "      <td>1</td>\n",
       "      <td>Technical Degree</td>\n",
       "      <td>1</td>\n",
       "      <td>Female</td>\n",
       "      <td>62</td>\n",
       "      <td>3</td>\n",
       "      <td>1</td>\n",
       "      <td>Sales Representative</td>\n",
       "      <td>2</td>\n",
       "      <td>Single</td>\n",
       "      <td>3202</td>\n",
       "      <td>21972</td>\n",
       "      <td>1</td>\n",
       "      <td>Yes</td>\n",
       "      <td>16</td>\n",
       "      <td>3</td>\n",
       "      <td>2</td>\n",
       "      <td>0</td>\n",
       "      <td>6</td>\n",
       "      <td>4</td>\n",
       "      <td>3</td>\n",
       "      <td>5</td>\n",
       "      <td>3</td>\n",
       "      <td>1</td>\n",
       "      <td>4</td>\n",
       "      <td>Yes</td>\n",
       "    </tr>\n",
       "    <tr>\n",
       "      <th>396</th>\n",
       "      <td>1073</td>\n",
       "      <td>28</td>\n",
       "      <td>Travel_Rarely</td>\n",
       "      <td>1083</td>\n",
       "      <td>Research &amp; Development</td>\n",
       "      <td>29</td>\n",
       "      <td>1</td>\n",
       "      <td>Life Sciences</td>\n",
       "      <td>3</td>\n",
       "      <td>Male</td>\n",
       "      <td>96</td>\n",
       "      <td>1</td>\n",
       "      <td>2</td>\n",
       "      <td>Manufacturing Director</td>\n",
       "      <td>2</td>\n",
       "      <td>Married</td>\n",
       "      <td>6549</td>\n",
       "      <td>3173</td>\n",
       "      <td>1</td>\n",
       "      <td>No</td>\n",
       "      <td>14</td>\n",
       "      <td>3</td>\n",
       "      <td>2</td>\n",
       "      <td>2</td>\n",
       "      <td>8</td>\n",
       "      <td>2</td>\n",
       "      <td>2</td>\n",
       "      <td>8</td>\n",
       "      <td>6</td>\n",
       "      <td>1</td>\n",
       "      <td>7</td>\n",
       "      <td>No</td>\n",
       "    </tr>\n",
       "    <tr>\n",
       "      <th>1125</th>\n",
       "      <td>1025</td>\n",
       "      <td>24</td>\n",
       "      <td>Travel_Rarely</td>\n",
       "      <td>1476</td>\n",
       "      <td>Sales</td>\n",
       "      <td>4</td>\n",
       "      <td>1</td>\n",
       "      <td>Medical</td>\n",
       "      <td>4</td>\n",
       "      <td>Female</td>\n",
       "      <td>42</td>\n",
       "      <td>3</td>\n",
       "      <td>2</td>\n",
       "      <td>Sales Executive</td>\n",
       "      <td>3</td>\n",
       "      <td>Married</td>\n",
       "      <td>4162</td>\n",
       "      <td>15211</td>\n",
       "      <td>1</td>\n",
       "      <td>Yes</td>\n",
       "      <td>12</td>\n",
       "      <td>3</td>\n",
       "      <td>3</td>\n",
       "      <td>2</td>\n",
       "      <td>5</td>\n",
       "      <td>3</td>\n",
       "      <td>3</td>\n",
       "      <td>5</td>\n",
       "      <td>4</td>\n",
       "      <td>0</td>\n",
       "      <td>3</td>\n",
       "      <td>No</td>\n",
       "    </tr>\n",
       "  </tbody>\n",
       "</table>\n",
       "</div>"
      ],
      "text/plain": [
       "      Unnamed: 0  Age BusinessTravel  DailyRate              Department  \\\n",
       "636          252   29  Travel_Rarely        665  Research & Development   \n",
       "1015         667   41  Travel_Rarely       1085  Research & Development   \n",
       "1061         414   24  Travel_Rarely       1448                   Sales   \n",
       "396         1073   28  Travel_Rarely       1083  Research & Development   \n",
       "1125        1025   24  Travel_Rarely       1476                   Sales   \n",
       "\n",
       "      DistanceFromHome Education    EducationField EnvironmentSatisfaction  \\\n",
       "636                 15         3     Life Sciences                       3   \n",
       "1015                 2         4     Life Sciences                       2   \n",
       "1061                 1         1  Technical Degree                       1   \n",
       "396                 29         1     Life Sciences                       3   \n",
       "1125                 4         1           Medical                       4   \n",
       "\n",
       "      Gender  HourlyRate JobInvolvement JobLevel                 JobRole  \\\n",
       "636     Male          60              3        1      Research Scientist   \n",
       "1015  Female          57              1        1   Laboratory Technician   \n",
       "1061  Female          62              3        1    Sales Representative   \n",
       "396     Male          96              1        2  Manufacturing Director   \n",
       "1125  Female          42              3        2         Sales Executive   \n",
       "\n",
       "     JobSatisfaction MaritalStatus  MonthlyIncome  MonthlyRate  \\\n",
       "636                4        Single           2340        22673   \n",
       "1015               4      Divorced           2778        17725   \n",
       "1061               2        Single           3202        21972   \n",
       "396                2       Married           6549         3173   \n",
       "1125               3       Married           4162        15211   \n",
       "\n",
       "      NumCompaniesWorked OverTime  PercentSalaryHike PerformanceRating  \\\n",
       "636                    1       No                 19                 3   \n",
       "1015                   4      Yes                 13                 3   \n",
       "1061                   1      Yes                 16                 3   \n",
       "396                    1       No                 14                 3   \n",
       "1125                   1      Yes                 12                 3   \n",
       "\n",
       "     RelationshipSatisfaction StockOptionLevel  TotalWorkingYears  \\\n",
       "636                         1                0                  6   \n",
       "1015                        3                1                 10   \n",
       "1061                        2                0                  6   \n",
       "396                         2                2                  8   \n",
       "1125                        3                2                  5   \n",
       "\n",
       "     TrainingTimesLastYear  WorkLifeBalance  YearsAtCompany  \\\n",
       "636                      1                3               6   \n",
       "1015                     1                2               7   \n",
       "1061                     4                3               5   \n",
       "396                      2                2               8   \n",
       "1125                     3                3               5   \n",
       "\n",
       "      YearsInCurrentRole  YearsSinceLastPromotion  YearsWithCurrManager  \\\n",
       "636                    5                        1                     5   \n",
       "1015                   7                        1                     0   \n",
       "1061                   3                        1                     4   \n",
       "396                    6                        1                     7   \n",
       "1125                   4                        0                     3   \n",
       "\n",
       "     Attrition  \n",
       "636         No  \n",
       "1015       Yes  \n",
       "1061       Yes  \n",
       "396         No  \n",
       "1125        No  "
      ]
     },
     "execution_count": 3,
     "metadata": {},
     "output_type": "execute_result"
    }
   ],
   "source": [
    "# load the data\n",
    "attrition = pd.read_csv('https://raw.githubusercontent.com/ZachDougherty/msds699-final/master/data/attrition_train.csv', dtype=types)\n",
    "attrition.sample(5)"
   ]
  },
  {
   "cell_type": "code",
   "execution_count": 5,
   "metadata": {},
   "outputs": [],
   "source": [
    "# get X and y, drop the extra column and target column\n",
    "y = attrition.Attrition.values\n",
    "X = attrition.drop(['Attrition','Unnamed: 0'], axis=1)"
   ]
  },
  {
   "cell_type": "code",
   "execution_count": 6,
   "metadata": {},
   "outputs": [],
   "source": [
    "# fix y, 1 = 'Yes', 0 = 'No'\n",
    "y = LabelEncoder().fit_transform(y)"
   ]
  },
  {
   "cell_type": "code",
   "execution_count": 7,
   "metadata": {},
   "outputs": [
    {
     "name": "stdout",
     "output_type": "stream",
     "text": [
      "Train\n",
      "0    0.840136\n",
      "1    0.159864\n",
      "dtype: float64\n",
      "\n"
     ]
    }
   ],
   "source": [
    "# class imbalance\n",
    "print('Train',pd.Series(y).value_counts() / y.shape[0], sep='\\n'); print()"
   ]
  },
  {
   "cell_type": "markdown",
   "metadata": {},
   "source": [
    "# __Baseline__"
   ]
  },
  {
   "cell_type": "markdown",
   "metadata": {},
   "source": [
    "We are going to train some models to get a baseline performance so we can evaluate the success or failuer of our feature engineering. Since we want to find all employees who may want to leave the company, we want to optimize for the True Negative Rate or specificity. Since sklearn doesn't have specifity as a default metric, we will create it here."
   ]
  },
  {
   "cell_type": "code",
   "execution_count": 8,
   "metadata": {},
   "outputs": [],
   "source": [
    "# defining the specificity metric\n",
    "def specificity(y_true, y_pred):\n",
    "    TN = np.sum(y_pred[y_true == 0] == 0) # find all correctly predicted neg values\n",
    "    FP = np.sum(y_pred[y_true == 0] == 1) # find all falsely predicted pos values\n",
    "    return TN / (TN + FP)\n",
    "\n",
    "specificity_score = make_scorer(specificity)"
   ]
  },
  {
   "cell_type": "code",
   "execution_count": 9,
   "metadata": {},
   "outputs": [],
   "source": [
    "# get the cols of different types for our transformers\n",
    "cat_cols = np.where(X.dtypes == \"category\")[0]\n",
    "num_cols = np.where(X.dtypes == \"Int64\")[0]"
   ]
  },
  {
   "cell_type": "code",
   "execution_count": 10,
   "metadata": {},
   "outputs": [],
   "source": [
    "# Need to OHE for LogisticRegression \n",
    "tree_ct = ColumnTransformer([\n",
    "    ('ord_enc', OrdinalEncoder(), cat_cols),\n",
    "    ('sc', StandardScaler(), num_cols)\n",
    "])\n",
    "\n",
    "linear_ct = ColumnTransformer([\n",
    "    ('ohe', OneHotEncoder(), cat_cols),\n",
    "    ('sc', StandardScaler(), num_cols)\n",
    "])"
   ]
  },
  {
   "cell_type": "code",
   "execution_count": 11,
   "metadata": {},
   "outputs": [
    {
     "data": {
      "text/html": [
       "<div>\n",
       "<style scoped>\n",
       "    .dataframe tbody tr th:only-of-type {\n",
       "        vertical-align: middle;\n",
       "    }\n",
       "\n",
       "    .dataframe tbody tr th {\n",
       "        vertical-align: top;\n",
       "    }\n",
       "\n",
       "    .dataframe thead th {\n",
       "        text-align: right;\n",
       "    }\n",
       "</style>\n",
       "<table border=\"1\" class=\"dataframe\">\n",
       "  <thead>\n",
       "    <tr style=\"text-align: right;\">\n",
       "      <th></th>\n",
       "      <th>Models</th>\n",
       "      <th>Specificity</th>\n",
       "      <th>Recall</th>\n",
       "      <th>Precision</th>\n",
       "    </tr>\n",
       "  </thead>\n",
       "  <tbody>\n",
       "    <tr>\n",
       "      <th>0</th>\n",
       "      <td>RidgeClassifier()</td>\n",
       "      <td>0.768266</td>\n",
       "      <td>0.771266</td>\n",
       "      <td>0.391600</td>\n",
       "    </tr>\n",
       "    <tr>\n",
       "      <th>1</th>\n",
       "      <td>LogisticRegression()</td>\n",
       "      <td>0.776368</td>\n",
       "      <td>0.749644</td>\n",
       "      <td>0.393597</td>\n",
       "    </tr>\n",
       "    <tr>\n",
       "      <th>7</th>\n",
       "      <td>SVC()</td>\n",
       "      <td>0.693339</td>\n",
       "      <td>0.738549</td>\n",
       "      <td>0.313975</td>\n",
       "    </tr>\n",
       "    <tr>\n",
       "      <th>5</th>\n",
       "      <td>SGDClassifier()</td>\n",
       "      <td>0.800723</td>\n",
       "      <td>0.728592</td>\n",
       "      <td>0.331333</td>\n",
       "    </tr>\n",
       "    <tr>\n",
       "      <th>2</th>\n",
       "      <td>DecisionTreeClassifier()</td>\n",
       "      <td>0.864390</td>\n",
       "      <td>0.319061</td>\n",
       "      <td>0.301613</td>\n",
       "    </tr>\n",
       "    <tr>\n",
       "      <th>6</th>\n",
       "      <td>GradientBoostingClassifier()</td>\n",
       "      <td>0.971681</td>\n",
       "      <td>0.249502</td>\n",
       "      <td>0.632178</td>\n",
       "    </tr>\n",
       "    <tr>\n",
       "      <th>4</th>\n",
       "      <td>ExtraTreesClassifier()</td>\n",
       "      <td>0.990899</td>\n",
       "      <td>0.143101</td>\n",
       "      <td>0.671429</td>\n",
       "    </tr>\n",
       "    <tr>\n",
       "      <th>3</th>\n",
       "      <td>RandomForestClassifier()</td>\n",
       "      <td>0.992929</td>\n",
       "      <td>0.079659</td>\n",
       "      <td>0.720000</td>\n",
       "    </tr>\n",
       "  </tbody>\n",
       "</table>\n",
       "</div>"
      ],
      "text/plain": [
       "                         Models  Specificity    Recall  Precision\n",
       "0             RidgeClassifier()     0.768266  0.771266   0.391600\n",
       "1          LogisticRegression()     0.776368  0.749644   0.393597\n",
       "7                         SVC()     0.693339  0.738549   0.313975\n",
       "5               SGDClassifier()     0.800723  0.728592   0.331333\n",
       "2      DecisionTreeClassifier()     0.864390  0.319061   0.301613\n",
       "6  GradientBoostingClassifier()     0.971681  0.249502   0.632178\n",
       "4        ExtraTreesClassifier()     0.990899  0.143101   0.671429\n",
       "3      RandomForestClassifier()     0.992929  0.079659   0.720000"
      ]
     },
     "execution_count": 11,
     "metadata": {},
     "output_type": "execute_result"
    }
   ],
   "source": [
    "# baseline models on raw dataset\n",
    "models = [\n",
    "    RidgeClassifier,\n",
    "    LogisticRegression,\n",
    "    DecisionTreeClassifier,\n",
    "    RandomForestClassifier,\n",
    "    ExtraTreesClassifier,\n",
    "    SGDClassifier,\n",
    "    GradientBoostingClassifier,\n",
    "    SVC\n",
    "]\n",
    "\n",
    "# class imbalance from observed values\n",
    "params = {\n",
    "    'class_weight': {0:0.15, 1:0.85}\n",
    "}\n",
    "\n",
    "specs = []\n",
    "recalls = []\n",
    "precisions = []\n",
    "for model in models:\n",
    "    if model == LogisticRegression or model == SGDClassifier or model == RidgeClassifier:\n",
    "        pipe = Pipeline([\n",
    "            ('pre', linear_ct),\n",
    "            ('model', model(**params))\n",
    "        ])\n",
    "    elif model == GradientBoostingClassifier:\n",
    "        pipe = Pipeline([\n",
    "            ('pre', linear_ct),\n",
    "            ('model', model())\n",
    "        ])\n",
    "    else:\n",
    "        pipe = Pipeline([\n",
    "            ('pre', tree_ct),\n",
    "            ('model', model(**params))\n",
    "        ])\n",
    "    \n",
    "    pipe.fit(X, y)\n",
    "    spec = np.mean(cross_val_score(pipe, X, y, scoring=specificity_score, cv=5))\n",
    "    recall = np.mean(cross_val_score(pipe, X, y, scoring=make_scorer(recall_score), cv=5))\n",
    "    precision = np.mean(cross_val_score(pipe, X, y, scoring=make_scorer(precision_score), cv=5))\n",
    "    \n",
    "    specs.append(spec)\n",
    "    recalls.append(recall)\n",
    "    precisions.append(precision)\n",
    "    \n",
    "baselines = pd.DataFrame({\n",
    "    \"Models\": [str(m()) for m in models],\n",
    "    \"Specificity\": specs,\n",
    "    \"Recall\": recalls,\n",
    "    \"Precision\": precisions\n",
    "})\n",
    "baselines.sort_values(\"Recall\", ascending=False)"
   ]
  },
  {
   "cell_type": "markdown",
   "metadata": {},
   "source": [
    "Our goal is to optimize for high Recall, because it is better to check in on an employee who has no desire to leave rather than to forget about employees who are very likey to leave, so we would rather over predict attrition than underpredict. Ideally, we want to have a high Recall score and fairly high Specificity. Performing well according to both of these metrics tells us that our model is fairly good at separating the two classes of employees, those that will likely leave a company and those who are likely to stay. The best candidate models with these given goals are the linear models, namely LogisticRegression (higher Specificity) and Ridge Logistic Regression (higher Recall). We will continue our model development with these candidate models and SGDClassifier in mind."
   ]
  },
  {
   "cell_type": "markdown",
   "metadata": {},
   "source": [
    "### __Candidate Models__\n",
    "- RidgeClassifier\n",
    "- LogisticRegression\n",
    "- SGDClassifier"
   ]
  },
  {
   "cell_type": "markdown",
   "metadata": {},
   "source": [
    "# __Model Development__"
   ]
  },
  {
   "cell_type": "markdown",
   "metadata": {},
   "source": [
    "### __Feature Engineering for Linear Models__\n",
    "\n",
    "__1) Normality:__ Linear models expect approximately normal columns, so we will transform some skewed numeric columns into normally distributed columns:\n",
    "- __DailyRate__: Uniform\n",
    "- __HourlyRate__: Very strange distribution, close to uniform\n",
    "- __MonthlyIncome__: Skewed right\n",
    "- __MonthlyRate__: Uniform\n",
    "- __TotalWorkingYears__: Skewed right"
   ]
  },
  {
   "cell_type": "code",
   "execution_count": 12,
   "metadata": {},
   "outputs": [],
   "source": [
    "to_norm_cols = np.where((X.columns == \"MonthlyIncome\") | (X.columns == \"MonthlyRate\") | (X.columns == \"TotalWorkingYears\") | (X.columns == \"DailyRate\") |\n",
    "                        (X.columns == \"HourlyRate\"))[0]\n",
    "\n",
    "to_norm_ct = (\"norm_qt\", QuantileTransformer(output_distribution=\"normal\"), list(to_norm_cols))"
   ]
  },
  {
   "cell_type": "markdown",
   "metadata": {},
   "source": [
    "__2) Discretization:__ Though we have many numeric columns, they are pseudo-categorical, as they only contain integer values and have small ranges. There a few ways to deal with this problem, one we will try is discretizing these numeric columns into sub-groups. For instance, in the DistanceFromHome column, we can observe a large drop off in the frequency of values after about 2 and 10 miles, with approximately uniform distributions before and after these threshold values, so we can create 3 new categories, \"close to home\", \"moderate distance\", \"far from home\". We can choose to either encode new categories, or simply break up the values into an arbitrary number of bins. This has the simultaneous effects of reducing complexity in the model, reducing feature space, and extracting some real world meaning from the variable distributions. For these purposes, we will use the sklearn provided __Binarizer__ and __KBinsDiscretizer__ classes. Using KBinsDiscretizer, we can use \"quantile\" as our method so that each category will have approximately the same number of observations, creatin approximately the desired categories for columns like \"DistanceFromHome\". Here are descriptions for the columns I adjusted:\n",
    "- __DistanceFromHome__: As mentioned, we are splitting up this column into 3, equally distributed bins.\n",
    "- __NumCompaniesWorked__: Split up into people who have remained relatively stable and people who have moved to many different companies.\n",
    "- __PercentSalaryHike__: There is a large drop off in frequency after 15%, with a steady decline after that. We will use 3 quantile bins\n",
    "- __YearsAtCompany__: Most people have been at a given company for 10 years or less, so let's try a Binarizer for this threshold.\n",
    "- __YearsSinceLastPromotion__: The frequency drops off significantly after 2 years, so we will try a Binarizer to represent people who have been recently promoted and those who have worked a long time without one.\n",
    "- __YearsInCurrentRole and YearsWithCurrManager__: These two columns are almost identical in distribution and scale, so we don't really need both of them. We will discretize them differently to try and avoid multicollinearity."
   ]
  },
  {
   "cell_type": "code",
   "execution_count": 13,
   "metadata": {},
   "outputs": [],
   "source": [
    "# getting our distance bins as mentioned\n",
    "distance_bins = (\"dist_bins\", KBinsDiscretizer(n_bins=3, strategy=\"quantile\", encode=\"onehot\"), list(np.where(X.columns == \"DistanceFromHome\")[0]))\n",
    "\n",
    "# NumCompanies\n",
    "numcomp_binzer = (\"numcomp_binzer\", Binarizer(threshold=1), list(np.where(X.columns == \"NumCompaniesWorked\")[0]))\n",
    "\n",
    "# PercentSalaryHike\n",
    "pctsal_bins = (\"pctsal_bins\", KBinsDiscretizer(n_bins=3, strategy=\"quantile\", encode=\"onehot\"), list(np.where(X.columns == \"PercentSalaryHike\")[0]))\n",
    "\n",
    "# YearsAtCompany\n",
    "yrs_binzer = (\"yrs_binzer\", Binarizer(threshold=10), list(np.where(X.columns == \"YearsAtCompany\")[0]))\n",
    "\n",
    "# YearsSinceLastPromotion\n",
    "promo_binzer = (\"promo_binzer\", Binarizer(threshold=2), list(np.where(X.columns == \"YearsSinceLastPromotion\")[0]))\n",
    "\n",
    "# YearsInCurrentRole\n",
    "curr_role_bins = (\"curr_role_bins\", KBinsDiscretizer(n_bins=4, strategy=\"quantile\", encode=\"onehot\"), list(np.where(X.columns == \"YearsInCurrentRole\")[0]))\n",
    "\n",
    "# YearsWithCurrManager\n",
    "curr_man_bins = (\"curr_man_bins\", KBinsDiscretizer(n_bins=5, strategy=\"uniform\", encode=\"onehot\"), list(np.where(X.columns == \"YearsWithCurrManager\")[0]))"
   ]
  },
  {
   "cell_type": "markdown",
   "metadata": {},
   "source": [
    "Putting it all together, we will construct a ColumnTransformer to alter our current set of columns. This will be used as a first step in our pipeline and the output will be fed to our \"standard\" column transformer."
   ]
  },
  {
   "cell_type": "code",
   "execution_count": 14,
   "metadata": {},
   "outputs": [],
   "source": [
    "norm_quant_bin_ct = ColumnTransformer([\n",
    "    to_norm_ct, distance_bins, numcomp_binzer, pctsal_bins, yrs_binzer, promo_binzer, curr_role_bins, curr_man_bins\n",
    "], remainder=\"passthrough\")"
   ]
  },
  {
   "cell_type": "markdown",
   "metadata": {},
   "source": [
    "We need to adjust the columns used for our standard transformers since we have changed the data types of some of our columns and the ColumnTransformer doesn't retain the order of the original columns. Since some columns are of type \"category\", we need to convert them to numeric type. This can be accomplished by either casting the type of the column or using an OridnalEncoder(), we will choose OrdinalEncoder to remain consistent with scikit-learn's API."
   ]
  },
  {
   "cell_type": "code",
   "execution_count": 17,
   "metadata": {},
   "outputs": [],
   "source": [
    "new_ohe_cols = [24, 25, 27, 29, 32, 34, 35, 36]\n",
    "ordinal_cols = [26, 28, 30, 31, 33, 37, 38, 39, 40]\n",
    "new_sc_cols  = [23]"
   ]
  },
  {
   "cell_type": "code",
   "execution_count": 18,
   "metadata": {},
   "outputs": [],
   "source": [
    "linear_ct = ColumnTransformer([\n",
    "    ('ohe', OneHotEncoder(handle_unknown='ignore'), new_ohe_cols),\n",
    "    ('ord_enc', OrdinalEncoder(), ordinal_cols),\n",
    "    ('sc', StandardScaler(), new_sc_cols)\n",
    "], remainder=\"passthrough\")"
   ]
  },
  {
   "cell_type": "code",
   "execution_count": 19,
   "metadata": {},
   "outputs": [
    {
     "data": {
      "text/html": [
       "<div>\n",
       "<style scoped>\n",
       "    .dataframe tbody tr th:only-of-type {\n",
       "        vertical-align: middle;\n",
       "    }\n",
       "\n",
       "    .dataframe tbody tr th {\n",
       "        vertical-align: top;\n",
       "    }\n",
       "\n",
       "    .dataframe thead th {\n",
       "        text-align: right;\n",
       "    }\n",
       "</style>\n",
       "<table border=\"1\" class=\"dataframe\">\n",
       "  <thead>\n",
       "    <tr style=\"text-align: right;\">\n",
       "      <th></th>\n",
       "      <th>Models</th>\n",
       "      <th>Specificity</th>\n",
       "      <th>Recall</th>\n",
       "      <th>Precision</th>\n",
       "    </tr>\n",
       "  </thead>\n",
       "  <tbody>\n",
       "    <tr>\n",
       "      <th>2</th>\n",
       "      <td>SGDClassifier()</td>\n",
       "      <td>0.682346</td>\n",
       "      <td>0.727027</td>\n",
       "      <td>0.264990</td>\n",
       "    </tr>\n",
       "    <tr>\n",
       "      <th>1</th>\n",
       "      <td>RidgeClassifier()</td>\n",
       "      <td>0.755104</td>\n",
       "      <td>0.717496</td>\n",
       "      <td>0.359414</td>\n",
       "    </tr>\n",
       "    <tr>\n",
       "      <th>0</th>\n",
       "      <td>LogisticRegression()</td>\n",
       "      <td>0.762201</td>\n",
       "      <td>0.717212</td>\n",
       "      <td>0.368619</td>\n",
       "    </tr>\n",
       "  </tbody>\n",
       "</table>\n",
       "</div>"
      ],
      "text/plain": [
       "                 Models  Specificity    Recall  Precision\n",
       "2       SGDClassifier()     0.682346  0.727027   0.264990\n",
       "1     RidgeClassifier()     0.755104  0.717496   0.359414\n",
       "0  LogisticRegression()     0.762201  0.717212   0.368619"
      ]
     },
     "execution_count": 19,
     "metadata": {},
     "output_type": "execute_result"
    }
   ],
   "source": [
    "params = {\n",
    "    'class_weight': {1:0.85, 0:0.15}\n",
    "}\n",
    "\n",
    "models = [LogisticRegression, RidgeClassifier, SGDClassifier]\n",
    "specs = []\n",
    "recalls = []\n",
    "precisions = []\n",
    "for model in models:\n",
    "    if model == LogisticRegression:\n",
    "        params.update({\"solver\":\"liblinear\"})\n",
    "    pipe = Pipeline([\n",
    "                ('feat_eng', norm_quant_bin_ct),\n",
    "                ('pre', linear_ct),\n",
    "                ('model', model(**params))\n",
    "            ])\n",
    "    if model == LogisticRegression:\n",
    "        del params[\"solver\"]\n",
    "    \n",
    "    pipe.fit(X, y)\n",
    "\n",
    "    specs.append(np.mean(cross_val_score(pipe, X, y, scoring=specificity_score, cv=5)))\n",
    "    recalls.append(np.mean(cross_val_score(pipe, X, y, scoring=make_scorer(recall_score), cv=5)))\n",
    "    precisions.append(np.mean(cross_val_score(pipe, X, y, scoring=make_scorer(precision_score), cv=5)))\n",
    "    \n",
    "baselines = pd.DataFrame({\n",
    "    \"Models\": [str(m()) for m in models],\n",
    "    \"Specificity\": specs,\n",
    "    \"Recall\": recalls,\n",
    "    \"Precision\": precisions\n",
    "})\n",
    "baselines.sort_values(\"Recall\", ascending=False)"
   ]
  },
  {
   "cell_type": "markdown",
   "metadata": {},
   "source": [
    "So, most of these changes seem to have decreased model performance. We will try again, this time we will force all numeric columns to be normally distributed, and not binarize or discretize columns."
   ]
  },
  {
   "cell_type": "markdown",
   "metadata": {},
   "source": [
    "### __Feature Engineering for Linear Models Take 2__\n",
    "\n",
    "__1) Normality:__ Let's just convert all numeric columns into normal columns\n",
    "- __DailyRate__: Uniform\n",
    "- __DistancFromHome__: Skewed right\n",
    "- __PercentSalaryHike__: Skewed right\n",
    "- __HourlyRate__: Very strange distribution, close to uniform\n",
    "- __MonthlyIncome__: Skewed right\n",
    "- __MonthlyRate__: Uniform\n",
    "- __TotalWorkingYears__: Skewed right\n",
    "- __YearsAtCompany__: Skewed right\n",
    "- __YearsInCurrentRole__: Strange distribution\n",
    "- __YearsSinceLastPromotion__: Right skewed\n",
    "- __YearsWithCurrManager__: Similar to YearsInCurrentRole"
   ]
  },
  {
   "cell_type": "code",
   "execution_count": 20,
   "metadata": {},
   "outputs": [],
   "source": [
    "cols_df = pd.DataFrame({\"cols\":X.columns, \"idx\": np.arange(X.shape[1])}).set_index(\"cols\")\n",
    "to_norm_cols = cols_df.loc[[\"DailyRate\",\"DistanceFromHome\",\"PercentSalaryHike\",\"HourlyRate\",\n",
    "                           \"MonthlyIncome\",\"MonthlyRate\",\"TotalWorkingYears\",\"YearsAtCompany\",\n",
    "                           \"YearsInCurrentRole\",\"YearsSinceLastPromotion\",\"YearsWithCurrManager\"],\n",
    "                           \"idx\"].values\n",
    "\n",
    "\n",
    "to_norm_ct = ColumnTransformer([(\"norm_qt\", QuantileTransformer(output_distribution=\"normal\"), list(to_norm_cols))], remainder=\"passthrough\")"
   ]
  },
  {
   "cell_type": "markdown",
   "metadata": {},
   "source": [
    "__2) Categorical Encoding:__ Now we need to encode the rest of the columns, either One Hot Encoding for columns without a proper ordering, such as JobRole, or Ordinal Encoding for columns such as EducationLevel."
   ]
  },
  {
   "cell_type": "code",
   "execution_count": 21,
   "metadata": {},
   "outputs": [],
   "source": [
    "new_ohe_cols = [12, 13, 15, 17, 20, 22, 24, 25, 26, 27]\n",
    "ordinal_cols = [14, 16, 18, 19, 21, 23, 28, 29]\n",
    "new_sc_cols  = [11]"
   ]
  },
  {
   "cell_type": "code",
   "execution_count": 22,
   "metadata": {},
   "outputs": [],
   "source": [
    "linear_ct = ColumnTransformer([\n",
    "    ('ohe', OneHotEncoder(handle_unknown='ignore'), new_ohe_cols),\n",
    "    ('ord_enc', OrdinalEncoder(), ordinal_cols),\n",
    "    ('sc', StandardScaler(), new_sc_cols)\n",
    "], remainder=\"passthrough\")"
   ]
  },
  {
   "cell_type": "code",
   "execution_count": 23,
   "metadata": {},
   "outputs": [
    {
     "data": {
      "text/html": [
       "<div>\n",
       "<style scoped>\n",
       "    .dataframe tbody tr th:only-of-type {\n",
       "        vertical-align: middle;\n",
       "    }\n",
       "\n",
       "    .dataframe tbody tr th {\n",
       "        vertical-align: top;\n",
       "    }\n",
       "\n",
       "    .dataframe thead th {\n",
       "        text-align: right;\n",
       "    }\n",
       "</style>\n",
       "<table border=\"1\" class=\"dataframe\">\n",
       "  <thead>\n",
       "    <tr style=\"text-align: right;\">\n",
       "      <th></th>\n",
       "      <th>Models</th>\n",
       "      <th>Specificity</th>\n",
       "      <th>Recall</th>\n",
       "      <th>Precision</th>\n",
       "    </tr>\n",
       "  </thead>\n",
       "  <tbody>\n",
       "    <tr>\n",
       "      <th>2</th>\n",
       "      <td>SGDClassifier()</td>\n",
       "      <td>0.771148</td>\n",
       "      <td>0.781792</td>\n",
       "      <td>0.409331</td>\n",
       "    </tr>\n",
       "    <tr>\n",
       "      <th>1</th>\n",
       "      <td>RidgeClassifier()</td>\n",
       "      <td>0.752100</td>\n",
       "      <td>0.744523</td>\n",
       "      <td>0.367917</td>\n",
       "    </tr>\n",
       "    <tr>\n",
       "      <th>0</th>\n",
       "      <td>LogisticRegression()</td>\n",
       "      <td>0.761175</td>\n",
       "      <td>0.733713</td>\n",
       "      <td>0.369905</td>\n",
       "    </tr>\n",
       "  </tbody>\n",
       "</table>\n",
       "</div>"
      ],
      "text/plain": [
       "                 Models  Specificity    Recall  Precision\n",
       "2       SGDClassifier()     0.771148  0.781792   0.409331\n",
       "1     RidgeClassifier()     0.752100  0.744523   0.367917\n",
       "0  LogisticRegression()     0.761175  0.733713   0.369905"
      ]
     },
     "execution_count": 23,
     "metadata": {},
     "output_type": "execute_result"
    }
   ],
   "source": [
    "params = {\n",
    "    'class_weight': {1:0.85, 0:0.15}\n",
    "}\n",
    "\n",
    "models = [LogisticRegression, RidgeClassifier, SGDClassifier]\n",
    "specs = []\n",
    "recalls = []\n",
    "precisions = []\n",
    "for model in models:\n",
    "    if model == LogisticRegression:\n",
    "        params.update({\"solver\":\"liblinear\"})\n",
    "    pipe = Pipeline([\n",
    "                ('feat_eng', to_norm_ct),\n",
    "                ('pre', linear_ct),\n",
    "                ('model', model(**params))\n",
    "            ])\n",
    "    if model == LogisticRegression:\n",
    "        del params[\"solver\"]\n",
    "    \n",
    "    pipe.fit(X, y)\n",
    "    \n",
    "    specs.append(np.mean(cross_val_score(pipe, X, y, scoring=specificity_score, cv=5)))\n",
    "    recalls.append(np.mean(cross_val_score(pipe, X, y, scoring=make_scorer(recall_score), cv=5)))\n",
    "    precisions.append(np.mean(cross_val_score(pipe, X, y, scoring=make_scorer(precision_score), cv=5)))\n",
    "    \n",
    "baselines = pd.DataFrame({\n",
    "    \"Models\": [str(m()) for m in models],\n",
    "    \"Specificity\": specs,\n",
    "    \"Recall\": recalls,\n",
    "    \"Precision\": precisions\n",
    "})\n",
    "baselines.sort_values(\"Recall\", ascending=False)"
   ]
  },
  {
   "cell_type": "markdown",
   "metadata": {},
   "source": [
    "### __Feature Engineering Conclusion__\n",
    "After many different attempts at feature engineering, I was not able to get better results from altering the distribution of columns or discretizing pseudo-numeric columns. This may be because in the process of discretization, we lose information about the columns. It seems that for this dataset, reducing the feature space did not improve performance, so for our hyperparameter tuning, we will carry on with a LogisticRegression model trained on one hot encoded categorical columns and z-normalized numeric columns."
   ]
  },
  {
   "cell_type": "markdown",
   "metadata": {},
   "source": [
    "# __Hyperparameter Tuning__"
   ]
  },
  {
   "cell_type": "code",
   "execution_count": 24,
   "metadata": {},
   "outputs": [],
   "source": [
    "cat_cols = np.where(X.dtypes == \"category\")[0]\n",
    "num_cols = np.where(X.dtypes == \"Int64\")[0]"
   ]
  },
  {
   "cell_type": "code",
   "execution_count": 27,
   "metadata": {},
   "outputs": [],
   "source": [
    "linear_ct = ColumnTransformer([\n",
    "    ('ohe', OneHotEncoder(handle_unknown=\"ignore\"), cat_cols),\n",
    "    ('sc', StandardScaler(), num_cols)\n",
    "])"
   ]
  },
  {
   "cell_type": "code",
   "execution_count": 30,
   "metadata": {},
   "outputs": [
    {
     "data": {
      "text/plain": [
       "0.8247510668563299"
      ]
     },
     "execution_count": 30,
     "metadata": {},
     "output_type": "execute_result"
    }
   ],
   "source": [
    "model = Pipeline([\n",
    "    ('pre', linear_ct),\n",
    "    ('clf', RidgeClassifier())\n",
    "])\n",
    "\n",
    "\n",
    "params = {\n",
    "    \"clf__alpha\": [0.001,0.01,0.01,1,10,100],\n",
    "    \"clf__class_weight\": [{1:wgt, 0:1-wgt} for wgt in np.linspace(0.7, 0.9, 20)],\n",
    "    \"clf__solver\": [\"auto\",\"svd\",\"lsqr\",\"sage\"]\n",
    "}\n",
    "\n",
    "cv = RandomizedSearchCV(estimator=model,\n",
    "                        param_distributions=params,\n",
    "                        n_iter=30,\n",
    "                        cv=5,\n",
    "                        scoring=make_scorer(recall_score),\n",
    "                        n_jobs=-1,\n",
    "                        )\n",
    "\n",
    "cv.fit(X, y)\n",
    "cv.best_score_"
   ]
  },
  {
   "cell_type": "code",
   "execution_count": 31,
   "metadata": {},
   "outputs": [
    {
     "data": {
      "text/plain": [
       "RidgeClassifier(alpha=10,\n",
       "                class_weight={0: 0.1105263157894737, 1: 0.8894736842105263},\n",
       "                solver='lsqr')"
      ]
     },
     "execution_count": 31,
     "metadata": {},
     "output_type": "execute_result"
    }
   ],
   "source": [
    "cv.best_estimator_['clf']"
   ]
  },
  {
   "cell_type": "markdown",
   "metadata": {},
   "source": [
    "To choose the best class weights, we will take a look at how recall and precision change as we adjust the weights."
   ]
  },
  {
   "cell_type": "code",
   "execution_count": 32,
   "metadata": {},
   "outputs": [],
   "source": [
    "recalls = []\n",
    "precisions = []\n",
    "specs = []\n",
    "for i in np.linspace(0.5, 0.99, 100):\n",
    "    final_model = Pipeline([\n",
    "        ('pre', linear_ct),\n",
    "        ('clf', RidgeClassifier(\n",
    "            alpha=10,\n",
    "            solver='lsqr',\n",
    "            class_weight={1:i, 0:1-i}\n",
    "        ))\n",
    "    ])\n",
    "    \n",
    "    pipe.fit(X, y)\n",
    "    recalls.append(np.mean(cross_val_score(final_model, X, y, scoring=make_scorer(recall_score), cv=5)))\n",
    "    precisions.append(np.mean(cross_val_score(final_model, X, y, scoring=make_scorer(precision_score), cv=5)))\n",
    "    specs.append(np.mean(cross_val_score(final_model, X, y, scoring=specificity_score, cv=5)))"
   ]
  },
  {
   "cell_type": "code",
   "execution_count": 33,
   "metadata": {},
   "outputs": [
    {
     "data": {
      "image/png": "[encoded data removed]",
      "text/plain": [
       "<Figure size 720x432 with 1 Axes>"
      ]
     },
     "metadata": {
      "image/png": {
       "height": 393,
       "width": 612
      },
      "needs_background": "light"
     },
     "output_type": "display_data"
    }
   ],
   "source": [
    "fig, ax = plt.subplots(figsize=(10,6))\n",
    "\n",
    "ax.plot(recalls, label=\"Recall\", c=\"#dcd0c5\", lw=5)\n",
    "ax.plot(precisions, label=\"Precision\", c=\"#abb6d4\",lw=5)\n",
    "ax.plot(specs, label=\"Specificity\", c=\"#91877d\", lw=5)\n",
    "labs = [round(val, 3) for val in np.linspace(0.5, 0.99, 7)]\n",
    "ax.plot([80,80], [0,1], '--', c=\"#8891a9\", lw=4)\n",
    "ax.set_xlabel(\"Class Weight for Attrition\", fontsize=13)\n",
    "ax.set_ylabel(\"Metric Score\", fontsize=13)\n",
    "ax.set_xticklabels(labs)\n",
    "ax.set_title(\"Classification Metrics\", fontsize=18, loc='left')\n",
    "\n",
    "ax.legend(fontsize=\"large\")\n",
    "plt.show()"
   ]
  },
  {
   "cell_type": "markdown",
   "metadata": {},
   "source": [
    "Based off of this plot, I will weight the minority class (attrition) with 0.90 and the majority class with 0.1. This will give high recall while still maintaing fairly high specificity. While Precision will be very low for our model, it isn't a big problem because as previously mentioned, a company trying to find out what type of employee could be at risk would rather provide support to more employees, even if some may not need it, rather than miss some employees who definitely need it. "
   ]
  },
  {
   "cell_type": "markdown",
   "metadata": {},
   "source": [
    "### __Final Model__"
   ]
  },
  {
   "cell_type": "code",
   "execution_count": 34,
   "metadata": {},
   "outputs": [],
   "source": [
    "model = Pipeline([\n",
    "    ('pre', linear_ct),\n",
    "    ('clf', RidgeClassifier(\n",
    "        alpha=10,\n",
    "        solver=\"svd\",\n",
    "        class_weight={1:0.9, 0:0.1}\n",
    "    ))\n",
    "])"
   ]
  },
  {
   "cell_type": "markdown",
   "metadata": {},
   "source": [
    "# __Model Evaluation__"
   ]
  },
  {
   "cell_type": "code",
   "execution_count": 35,
   "metadata": {},
   "outputs": [],
   "source": [
    "# prepare test data\n",
    "test = pd.read_csv('https://raw.githubusercontent.com/ZachDougherty/msds699-final/master/data/attrition_test.csv', dtype=types)"
   ]
  },
  {
   "cell_type": "code",
   "execution_count": 36,
   "metadata": {},
   "outputs": [],
   "source": [
    "y_test = test.Attrition.values\n",
    "X_test = test.drop(['Attrition','Unnamed: 0'], axis=1)"
   ]
  },
  {
   "cell_type": "code",
   "execution_count": 37,
   "metadata": {},
   "outputs": [],
   "source": [
    "# fix y, 1 = 'Yes', 0 = 'No'\n",
    "y_test = LabelEncoder().fit_transform(y_test)"
   ]
  },
  {
   "cell_type": "code",
   "execution_count": 38,
   "metadata": {},
   "outputs": [
    {
     "data": {
      "text/plain": [
       "(0.8367346938775511, 0.3153846153846154, 0.636734693877551)"
      ]
     },
     "execution_count": 38,
     "metadata": {},
     "output_type": "execute_result"
    }
   ],
   "source": [
    "model.fit(X, y)\n",
    "pred = model.predict(X)\n",
    "pred = model.predict(X_test)\n",
    "recall_score(y_test, pred), precision_score(y_test, pred), specificity(y_test, pred)"
   ]
  },
  {
   "cell_type": "code",
   "execution_count": 39,
   "metadata": {},
   "outputs": [
    {
     "name": "stdout",
     "output_type": "stream",
     "text": [
      "              precision    recall  f1-score   support\n",
      "\n",
      "           0       0.95      0.64      0.76       245\n",
      "           1       0.32      0.84      0.46        49\n",
      "\n",
      "    accuracy                           0.67       294\n",
      "   macro avg       0.63      0.74      0.61       294\n",
      "weighted avg       0.85      0.67      0.71       294\n",
      "\n"
     ]
    }
   ],
   "source": [
    "print(classification_report(y_test, pred))"
   ]
  },
  {
   "cell_type": "markdown",
   "metadata": {},
   "source": [
    "# __Feature Importance__"
   ]
  },
  {
   "cell_type": "markdown",
   "metadata": {},
   "source": [
    "Since StandardScaler doesn't let us get the feature names, so we need to remove that part of the transformer so we can understand feature importance."
   ]
  },
  {
   "cell_type": "code",
   "execution_count": 40,
   "metadata": {},
   "outputs": [
    {
     "name": "stdout",
     "output_type": "stream",
     "text": [
      "Feature\t\t\t  Coefficient\n",
      "ohe__x11_No                   \t-0.256\n",
      "ohe__x11_Yes                  \t0.256\n",
      "ohe__x7_2                     \t-0.229\n",
      "YearsAtCompany                \t0.214\n",
      "ohe__x6_1                     \t0.211\n",
      "ohe__x0_Non-Travel            \t-0.201\n",
      "YearsWithCurrManager          \t-0.192\n",
      "ohe__x0_Travel_Frequently     \t0.192\n",
      "ohe__x8_Research Scientist    \t-0.192\n",
      "ohe__x4_1                     \t0.191\n"
     ]
    }
   ],
   "source": [
    "ct = ColumnTransformer([\n",
    "    ('ohe', OneHotEncoder(handle_unknown=\"ignore\"), cat_cols)\n",
    "], remainder=\"passthrough\")\n",
    "\n",
    "ct.fit(X, y)\n",
    "features = ct.get_feature_names()\n",
    "feat_imps = zip(features, model['clf'].coef_[0])\n",
    "print(\"Feature\\t\\t\\t \", \"Coefficient\")\n",
    "for feat, imp in sorted(feat_imps, key=lambda x: np.abs(x[1]), reverse=True)[:10]:\n",
    "    print(f\"{feat:<30}\", f\"{imp:.3f}\", sep='\\t')"
   ]
  },
  {
   "cell_type": "code",
   "execution_count": 41,
   "metadata": {},
   "outputs": [
    {
     "data": {
      "text/plain": [
       "array(['OverTime', 'JobLevel', 'JobInvolvement', 'BusinessTravel',\n",
       "       'JobRole', 'EnvironmentSatisfaction'], dtype=object)"
      ]
     },
     "execution_count": 41,
     "metadata": {},
     "output_type": "execute_result"
    }
   ],
   "source": [
    "X.columns[cat_cols][[11, 7, 6, 0, 8, 4]].values"
   ]
  },
  {
   "cell_type": "markdown",
   "metadata": {},
   "source": [
    "So according to this model, the largest contributing factor to employee attrition is whether or not they work overtime. We can see coefficients of opposite signs but similar magnitude for the presence or absence of overtime in an employees schedule."
   ]
  }
 ],
 "metadata": {
  "kernelspec": {
   "display_name": "Python 3",
   "language": "python",
   "name": "python3"
  },
  "language_info": {
   "codemirror_mode": {
    "name": "ipython",
    "version": 3
   },
   "file_extension": ".py",
   "mimetype": "text/x-python",
   "name": "python",
   "nbconvert_exporter": "python",
   "pygments_lexer": "ipython3",
   "version": "3.8.5"
  }
 },
 "nbformat": 4,
 "nbformat_minor": 4
}
